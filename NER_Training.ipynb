{
 "cells": [
  {
   "cell_type": "code",
   "execution_count": 1,
   "id": "8c66a85f",
   "metadata": {},
   "outputs": [],
   "source": [
    "TRAIN_DATA = [('I am planning to order the BMW M8 with a sunroof or panorama glass roof sky lounge, and the M Sport Package Pro on 12th September 2018. Is this configuration possible?\\r',\n",
    "  {'entities': [(31, 33, 'BMW_VEHICLE'),\n",
    "    [41, 48, 'BMW_ROOF_CONFIG'],\n",
    "    [52, 82, 'BMW_ROOF_CONFIG'],\n",
    "    [92, 111, 'BMW_AVLB_PACKAGES']]}),\n",
    " ('Hello, is the X7 xDrive40i with left-hand drive available without a panorama glass roof and with the EU Comfort Package. I need the vehicle on the 8th of November 2024.\\r',\n",
    "  {'entities': [(14, 26, 'BMW_SALES_DESCP'),\n",
    "    [32, 47, 'BMW_STR_CONFIG'],\n",
    "    [68, 87, 'BMW_ROOF_CONFIG'],\n",
    "    [101, 120, 'BMW_AVLB_PACKAGES']]}),\n",
    " ('I want to order a BMW iX xDrive40 with right-hand drive configuration. I will be ordering it at the start of October 2022.\\r',\n",
    "  {'entities': [(22, 33, 'BMW_SALES_DESCP'), [39, 55, 'BMW_STR_CONFIG']]}),\n",
    " ('Hello, is the iX xDrive50 or X7 xDrive40d available with a panorama glass roof and without the EU Comfort Package. I need the vehicle on the 8th of December 2024.\\r',\n",
    "  {'entities': [(14, 25, 'BMW_SALES_DESCP'),\n",
    "    [29, 41, 'BMW_SALES_DESCP'],\n",
    "    [59, 78, 'BMW_ROOF_CONFIG'],\n",
    "    [95, 114, 'BMW_AVLB_PACKAGES']]}),\n",
    " ('I am planning to order the BMW 318i with a sunroof and the M Sport Package on 12th April 2018. Is this configuration possible?\\r',\n",
    "  {'entities': [(31, 35, 'BMW_SALES_DESCP'),\n",
    "    [43, 50, 'BMW_ROOF_CONFIG'],\n",
    "    [59, 74, 'BMW_AVLB_PACKAGES']]}),\n",
    " ('I want to order a BMW xDrive40i with N52B30 or S205A engine and right-hand drive configuration. I will be ordering it at the start of March 2022.\\r',\n",
    "  {'entities': [(22, 31, 'BMW_SALES_DESCP'),\n",
    "    [37, 43, 'BMW_ENGINE'],\n",
    "    [47, 52, 'BMW_ENGINE'],\n",
    "    [64, 80, 'BMW_STR_CONFIG']]}),\n",
    " ('Can I buy a US E70 with ECE Engine with left hand drive configuration? I want to buy it around 15th of May 2023.\\r',\n",
    "  {'entities': [(12, 18, 'BMW_VEHICLE'),\n",
    "    [24, 27, 'BMW_ENGINE'],\n",
    "    [40, 55, 'BMW_STR_CONFIG']]}),\n",
    " ('Can I buy a E71 with N52B30 or ECE Engine with right hand drive configuration? I want to purchase it around 12th of july 2023.\\r',\n",
    "  {'entities': [(12, 15, 'BMW_VEHICLE'),\n",
    "    [21, 27, 'BMW_ENGINE'],\n",
    "    [31, 34, 'BMW_ENGINE'],\n",
    "    [47, 63, 'BMW_STR_CONFIG']]}),\n",
    " ('I am planning to order the BMW 318i with N52B30O1 and the M Sport Package on 12th April 2018. Is this configuration possible? \\r',\n",
    "  {'entities': [(31, 35, 'BMW_SALES_DESCP'),\n",
    "    [41, 49, 'BMW_ENGINE'],\n",
    "    [58, 73, 'BMW_AVLB_PACKAGES']]}),\n",
    " ('I want to order a BMW iX xDrive40 with right-hand drive configuration. I will be ordering it at the start of October 2022.\\r',\n",
    "  {'entities': [(22, 33, 'BMW_SALES_DESCP'), [39, 55, 'BMW_STR_CONFIG']]}),\n",
    " ('Can I buy a US E71 without N52B30 Engine with right hand drive configuration? I want to buy it around 15th of August 2024.\\r',\n",
    "  {'entities': [(12, 18, 'BMW_VEHICLE'),\n",
    "    [27, 33, 'BMW_ENGINE'],\n",
    "    [46, 62, 'BMW_STR_CONFIG']]}),\n",
    " ('I am planning to buy the BMW X7 xDrive40i without N53B30O0 and the Comfort Package EU on 17th January 2023. Is this configuration possible?\\r',\n",
    "  {'entities': [(29, 41, 'BMW_SALES_DESCP'),\n",
    "    [50, 58, 'BMW_ENGINE'],\n",
    "    [67, 85, 'BMW_AVLB_PACKAGES']]}),\n",
    " ('I am planning to buy the iX xDrive50 without N52B30O1 with left-hand drive on 19th February 2022.\\r',\n",
    "  {'entities': [(25, 36, 'BMW_SALES_DESCP'),\n",
    "    [45, 53, 'BMW_ENGINE'],\n",
    "    [59, 74, 'BMW_STR_CONFIG']]}),\n",
    " ('Hello, is the X7 xDrive40d or iX xDrive50 available without a panorama glass roof or Sunroof. I need the vehicle on the 28th of June 2021.\\r',\n",
    "  {'entities': [(14, 26, 'BMW_SALES_DESCP'),\n",
    "    [30, 41, 'BMW_SALES_DESCP'],\n",
    "    [62, 81, 'BMW_ROOF_CONFIG'],\n",
    "    [85, 93, 'BMW_ROOF_CONFIG']]}),\n",
    " ('Hello, is the N52B30 available without a Panorama Glass Roof Sky Lounge or Sunroof. I need the vehicle on the 28th of December 2023.\\r',\n",
    "  {'entities': [(14, 20, 'BMW_ENGINE'),\n",
    "    [41, 71, 'BMW_ROOF_CONFIG'],\n",
    "    [75, 83, 'BMW_ROOF_CONFIG']]}),\n",
    " ('Hello, is the X7 xDrive40d available without a Sunroof. I want to buy vehicle on the 28th of December 2023.\\r',\n",
    "  {'entities': [(14, 26, 'BMW_SALES_DESCP'), [47, 55, 'BMW_ROOF_CONFIG']]})]"
   ]
  },
  {
   "cell_type": "code",
   "execution_count": 2,
   "id": "133b7701",
   "metadata": {},
   "outputs": [
    {
     "name": "stderr",
     "output_type": "stream",
     "text": [
      "100%|██████████| 16/16 [00:00<00:00, 1228.58it/s]\n"
     ]
    }
   ],
   "source": [
    "import pandas as pd\n",
    "import os\n",
    "from tqdm import tqdm\n",
    "import spacy\n",
    "from spacy.tokens import DocBin\n",
    "\n",
    "#nlp = spacy.blank(\"en\") # load a new spacy model\n",
    "nlp = spacy.load(\"en_core_web_sm\") # load other spacy model\n",
    "\n",
    "db = DocBin() # create a DocBin object\n",
    "\n",
    "for text, annot in tqdm(TRAIN_DATA): # data in previous format\n",
    "    doc = nlp.make_doc(text) # create doc object from text\n",
    "    ents = []\n",
    "    for start, end, label in annot[\"entities\"]: # add character indexes\n",
    "        span = doc.char_span(start, end, label=label, alignment_mode=\"contract\")\n",
    "        if span is None:\n",
    "            print(\"Skipping entity\")\n",
    "        else:\n",
    "            ents.append(span)\n",
    "    doc.ents = ents # label the text with the ents\n",
    "    db.add(doc)\n",
    "\n",
    "os.chdir(r'C:\\Users\\anike\\Downloads\\BMW')\n",
    "db.to_disk(\"./train.spacy\") # save the docbin object"
   ]
  },
  {
   "cell_type": "code",
   "execution_count": null,
   "id": "f77ea072",
   "metadata": {},
   "outputs": [],
   "source": [
    "nlp1 = spacy.load(r\".\\output\\model-best\") #load the best model\n",
    "doc = nlp1(\"there was a flight named D16\") # input sample text\n",
    "\n",
    "spacy.displacy.render(doc, style=\"ent\", jupyter=True) # display in Jupyter"
   ]
  }
 ],
 "metadata": {
  "kernelspec": {
   "display_name": "Python 3 (ipykernel)",
   "language": "python",
   "name": "python3"
  },
  "language_info": {
   "codemirror_mode": {
    "name": "ipython",
    "version": 3
   },
   "file_extension": ".py",
   "mimetype": "text/x-python",
   "name": "python",
   "nbconvert_exporter": "python",
   "pygments_lexer": "ipython3",
   "version": "3.10.9"
  }
 },
 "nbformat": 4,
 "nbformat_minor": 5
}
