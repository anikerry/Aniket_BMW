{
 "cells": [
  {
   "cell_type": "code",
   "execution_count": 67,
   "id": "4c92725a-e3ad-402b-997f-9b64d40e7674",
   "metadata": {},
   "outputs": [],
   "source": [
    "# %pip install https://huggingface.co/Anikerry/en_pipeline/resolve/main/en_pipeline-any-py3-none-any.whl\n",
    "# %python -m spacy download en_core_web_lg\n",
    "# %pip install ctparse"
   ]
  },
  {
   "cell_type": "code",
   "execution_count": 68,
   "metadata": {},
   "outputs": [],
   "source": [
    "from ctparse import ctparse\n",
    "from datetime import datetime\n",
    "\n",
    "import re\n",
    "import spacy\n",
    "import time\n",
    "\n",
    "nlp = spacy.load(\"en_pipeline\")\n",
    "ner = spacy.load(\"en_core_web_lg\")\n",
    "\n",
    "import en_pipeline\n",
    "nlp = en_pipeline.load()"
   ]
  },
  {
   "cell_type": "code",
   "execution_count": 69,
   "id": "c0e8859c",
   "metadata": {},
   "outputs": [
    {
     "name": "stdout",
     "output_type": "stream",
     "text": [
      "No user prompt provided. Initializing default string.\n",
      "User input: I am planning to order a right-hand drive BMW X7 xDrive40i with a sunroof or panorama glass roof sky lounge, and the M Sport Package Pro on 12th September 2018. Is this configuration possible?\n"
     ]
    }
   ],
   "source": [
    "prompt = input('Please Enter User Prompt\\n') \n",
    "if prompt:\n",
    "    print(\"User input:\", prompt)\n",
    "else:\n",
    "    print(\"No user prompt provided. Initializing default string.\")\n",
    "time.sleep(5)\n",
    "\n",
    "prompt = 'I am planning to order a right-hand drive BMW X7 xDrive40i with a sunroof or panorama glass roof sky lounge, and the M Sport Package Pro on 12th September 2018. Is this configuration possible?'\n",
    "print(\"User input:\", prompt)\n"
   ]
  },
  {
   "cell_type": "code",
   "execution_count": 70,
   "id": "33a0f353-1b07-4d9b-96b3-92fbdb84b765",
   "metadata": {},
   "outputs": [
    {
     "name": "stdout",
     "output_type": "stream",
     "text": [
      "{'BMW_STR_CONFIG': 'right-hand drive', 'BMW_SALES_DESCP': 'X7 xDrive40i', 'BMW_ROOF_CONFIG': 'panorama glass roof sky lounge', 'BMW_AVLB_PACKAGES': 'M Sport Package Pro'}\n",
      "{'ORG': 'BMW', 'PRODUCT': 'X7', 'DATE': '12th September 2018'}\n"
     ]
    }
   ],
   "source": [
    "doc = nlp(prompt)\n",
    "entities = {}\n",
    "for ent in doc.ents:\n",
    "    entities[ent.label_] = ent.text\n",
    "print(entities)\n",
    "\n",
    "doc1 = ner(prompt)\n",
    "entities1 = {}\n",
    "for ent in doc1.ents:\n",
    "    entities1[ent.label_] = ent.text\n",
    "print(entities1)"
   ]
  },
  {
   "cell_type": "code",
   "execution_count": 71,
   "id": "5fc41511",
   "metadata": {},
   "outputs": [],
   "source": [
    "roof_config = []\n",
    "avlb_packages = [] \n",
    "str_config = []\n",
    "engine = []\n",
    "vehicle = []\n",
    "ops_keys = []\n",
    "ops_values = []\n",
    "ops_dictionary = {}\n",
    "ent_keys = []\n",
    "ent_values = []\n",
    "ent_dictionary = {}\n",
    "model_codes = []\n",
    "engine = []\n",
    "str_config = []\n",
    "roof_config = []\n",
    "avlb_packages = []\n",
    "aa = []\n",
    "bb = []"
   ]
  },
  {
   "cell_type": "code",
   "execution_count": 72,
   "id": "d3e6e82d",
   "metadata": {},
   "outputs": [],
   "source": [
    "model_type_codes_dict = {\n",
    "      \"21CF\": [\"iX xDrive50\", \"xDrive50\"],\n",
    "      \"11CF\": [\"iX xDrive40\", \"xDrive40\"],\n",
    "      \"21EM\": [\"X7 xDrive40i\", \"xDrive40i\"],\n",
    "      \"21EN\": [\"X7 xDrive40d\", \"xDrive40d\"],\n",
    "      \"28FF\": [\"318i\"]}\n",
    "\n",
    "vehicle_dict = {\n",
    "      \"DZ01\": [\"M8\", \"m8\"],\n",
    "      \"E70\": [\"E70\", \"e70\"],\n",
    "      \"E71\": [\"E71\", \"e71\"]}\n",
    "\n",
    "engine_dict = {\n",
    "      \"N52B30\": [\"N52B30\", \"n52b30\"],\n",
    "      \"N52B30\": [\"N52B30\", \"n52b30\"],\n",
    "      \"S205A\": [\"S205A\", \"s205a\"],\n",
    "      \"ECE\": [\"ECE\", \"ece\"],\n",
    "      \"N52B30O1\": [\"N52B30O1\", \"n52b30o1\"],\n",
    "      \"N53B30O0\": [\"N53B30O0\", \"n53b30o0\"]}\n",
    "\n",
    "str_config_dict = {\n",
    "      \"RL\": [\"RIGHT\", \"right\", \"Right\", \"Right-Hand Drive\", \"right-hand drive\", \"Right-Hand\", \"right-hand\", \"Right Hand\", \"right hand\" ],\n",
    "      \"LL\": [\"LEFT\", \"left\", \"Left\", \"Left-Hand Drive\", \"left-hand drive\", \"Left-Hand\", \"left-hand\", \"Left Hand\", \"left hand\" ]}\n",
    "\n",
    "avlb_packages_dict = {\n",
    "      \"P337A\": [\"M Sport Package\", \"m sport package\", \"M-Sport Package\", \"m-sport package\", \"MSport Package\", \"mSport Package\", \"Sport Package M\", \"sport package m\" ],\n",
    "      \"P33BA\": [\"M Sport Package Pro\", \"M Sport Package Pro\", \"m sport package pro\", \"M-Sport Package Pro\", \"m-sport package pro\", \"MSport Package pro\", \"mSport Package\", \"Pro\" \"Sport Package M Pro\", \"sport package m pro\" ],\n",
    "      \"P33BA\": [\"Comfort Package EU\", \"Comfort Package eu\", \"comfort package EU\", \"EU-Comfort Package\", \"eu-comfort package\", \"eu-comfort\", \"mSport Package\", \"Sport Package M\", \"sport package m\", \"Comfort\", \"EU\" ]}\n",
    "\n",
    "roof_config_dict = {\n",
    "      \"S402A\": [\"Panorama Glass Roof\", \"panorama glass roof\", \"panorama glassroof\", \"Panorama Glassroof\", \"panorama-glassroof\", ],\n",
    "      \"S407A\": [\"Panorama Glass Roof Sky Lounge\", \"panorama glass roof sky lounge\", \"panorama-glassroof sky lounge\", \"Panorama Glass Roof sky lounge\", \"lounge\", \"sky\" \"sky lounge\", \"Sky Lounge\", \"panorama glass roof sky lounge\" ],\n",
    "      \"S403A\": [\"Sunroof\", \"Sun\", \"Roof\", \"Sun Roof\", \"sun roof\", \"sun-roof\", \"Sun-Roof\", \"sunroof\"]}\n",
    "\n",
    "ops = [' with ', ' without ', ' or ', ' and ', ' except ' ]\n",
    "operators_dict = {'+': [], '-': [], '/': [], '&': [], '/-': []}\n",
    "\n",
    "all_dict = [model_type_codes_dict, vehicle_dict, engine_dict, str_config_dict, avlb_packages_dict, avlb_packages_dict, roof_config_dict]"
   ]
  },
  {
   "cell_type": "code",
   "execution_count": 73,
   "id": "898cc01d",
   "metadata": {},
   "outputs": [],
   "source": [
    "def exists_in_entity_key(dictionary):\n",
    "  matching_keys = []\n",
    "  for key in dictionary.items():\n",
    "    matching_keys.append(str(key)) \n",
    "     \n",
    "  return matching_keys\n",
    "\n",
    "def exists_in_entity_value(dictionary):\n",
    "  matching_values= []\n",
    "  for key, value in dictionary.items():\n",
    "    matching_values.append(str(value))\n",
    "  return matching_values\n",
    "\n",
    "def find_matching_string(dictionary, search_string):\n",
    "  matching_keys = []\n",
    "  for key, value in dictionary.items():\n",
    "    if any(search_string.find (s) for s in value):\n",
    "      matching_keys.append(str(key))\n",
    "    return matching_keys\n",
    "  \n",
    "def find_substring_indices(string, substring):\n",
    "  indices = []\n",
    "  start = 0\n",
    "  while True:\n",
    "    index = string.find(substring, start)\n",
    "    if index == -1:\n",
    "       break\n",
    "    indices.append(index)\n",
    "    start = index + 1\n",
    "  return indices\n",
    "\n",
    "def insert_into_dictionary(keys, values):\n",
    "    dictionary = {}\n",
    "    for i in range(len(keys)):\n",
    "        dictionary[keys[i]] = values[i]\n",
    "    return dictionary\n",
    "\n",
    "def get_indices_substring(key, value, substring, string):\n",
    "  indices_substring = find_substring_indices(string, substring)\n",
    "  if len(indices_substring) != 0: \n",
    "    key.append(substring)\n",
    "    value.append(indices_substring)\n",
    "\n",
    "def find_abbreivations(search_string, dictionary, list):\n",
    "  for key, value in entities.items():\n",
    "    if search_string in key:\n",
    "      search_items = entities[search_string]\n",
    "      z = find_matching_string(dictionary, search_items)\n",
    "      list.append(z)\n",
    "      print(search_string, list)\n",
    "\n",
    "def find_abbreivations_1 (search_string, dictionary):\n",
    "  for key, value in entities.items():\n",
    "    if search_string in key:\n",
    "      y = None\n",
    "      search_items = entities[search_string]\n",
    "      y = find_matching_string(dictionary, search_items)\n",
    "      print(search_string, y)\n",
    "  return y\n",
    "\n",
    "def find_nearest_less(target, numbers):\n",
    "  nearest = numbers[0]\n",
    "  for num in numbers:\n",
    "    if num < target and (num > nearest):\n",
    "      nearest = num\n",
    "  return nearest\n",
    "\n",
    "def search_value_in_dict(value, dictionary):\n",
    "    for key, values in dictionary.items():\n",
    "        if value in values:\n",
    "            return key\n",
    "    return None"
   ]
  },
  {
   "cell_type": "code",
   "execution_count": 74,
   "id": "84b18f68",
   "metadata": {},
   "outputs": [
    {
     "name": "stdout",
     "output_type": "stream",
     "text": [
      "entities_keys [\"('BMW_STR_CONFIG', 'right-hand drive')\", \"('BMW_SALES_DESCP', 'X7 xDrive40i')\", \"('BMW_ROOF_CONFIG', 'panorama glass roof sky lounge')\", \"('BMW_AVLB_PACKAGES', 'M Sport Package Pro')\"]\n",
      "entities_values ['right-hand drive', 'X7 xDrive40i', 'panorama glass roof sky lounge', 'M Sport Package Pro']\n"
     ]
    }
   ],
   "source": [
    "entities_keys = exists_in_entity_key(entities)\n",
    "print(\"entities_keys\",entities_keys)\n",
    "entities_values = exists_in_entity_value(entities)\n",
    "print(\"entities_values\",entities_values)"
   ]
  },
  {
   "cell_type": "code",
   "execution_count": 78,
   "metadata": {},
   "outputs": [
    {
     "name": "stdout",
     "output_type": "stream",
     "text": [
      "{' with ': [58], ' or ': [73], ' and ': [108]}\n",
      "{'right-hand drive': [25], 'X7 xDrive40i': [46], 'panorama glass roof sky lounge': [77], 'M Sport Package Pro': [117]}\n",
      "{'+': [], '-': [], '/': ['panorama glass roof sky lounge'], '&': ['M Sport Package Pro'], '/-': []}\n"
     ]
    }
   ],
   "source": [
    "for i in ops:\n",
    "    substring = i\n",
    "    get_indices_substring(ops_keys, ops_values, substring, prompt)\n",
    "\n",
    "for entity in entities_values:\n",
    "    substring = entity\n",
    "    get_indices_substring(ent_keys, ent_values, substring, prompt)\n",
    "\n",
    "ops_dictionary = insert_into_dictionary(ops_keys, ops_values)\n",
    "print(ops_dictionary)\n",
    "\n",
    "ent_dictionary = insert_into_dictionary(ent_keys, ent_values)\n",
    "print(ent_dictionary)\n",
    "\n",
    "indx_list = []\n",
    "for key_2 in ops_dictionary:\n",
    "    for indx in ops_dictionary[key_2]:\n",
    "        indx_list.append(indx)\n",
    "\n",
    "for key_1 in ent_dictionary:\n",
    "    for indx_ent in ent_dictionary[key_1]:\n",
    "        #print('indx_ent',indx_ent)\n",
    "        nearest_less = find_nearest_less(indx_ent, indx_list)\n",
    "        #print ('nearest_less', nearest_less)\n",
    "        if nearest_less < indx_ent:\n",
    "            a = search_value_in_dict(indx_ent, ent_dictionary)\n",
    "            b = search_value_in_dict(nearest_less, ops_dictionary)\n",
    "            #print ('a: ', a)\n",
    "            #print ('b: ', b)\n",
    "            ops = [' with ', ' without ', ' or ', ' and ', ' except ' ]\n",
    "            if b == ' with ':\n",
    "                operators_dict ['+'].append(a)\n",
    "            if b == ' without ':\n",
    "                operators_dict ['-'].append(a)\n",
    "            if b == ' or ':\n",
    "                operators_dict ['/'].append(a)\n",
    "            if b == ' and ':\n",
    "                operators_dict ['&'].append(a)\n",
    "            if b == 'except ':\n",
    "                operators_dict ['/-'].append(a)\n",
    "            \n",
    "print (operators_dict)"
   ]
  },
  {
   "cell_type": "code",
   "execution_count": null,
   "id": "ae7f7d83-e9da-4be6-8c23-82066c073342",
   "metadata": {},
   "outputs": [],
   "source": [
    "search_string = 'BMW_SALES_DESCP'\n",
    "find_abbreivations(search_string, model_type_codes_dict, model_codes)\n",
    "\n",
    "search_string = 'BMW_ENGINE'\n",
    "find_abbreivations(search_string, engine_dict, engine)\n",
    "\n",
    "search_string = 'BMW_STR_CONFIG'\n",
    "find_abbreivations(search_string, str_config_dict, str_config)\n",
    "\n",
    "search_string = 'BMW_ROOF_CONFIG'\n",
    "find_abbreivations(search_string, roof_config_dict, roof_config)\n",
    "\n",
    "search_string = 'BMW_AVLB_PACKAGES'\n",
    "find_abbreivations(search_string, avlb_packages_dict, avlb_packages)\n",
    "\n",
    "search_string = 'BMW_VEHICLE'\n",
    "for key, value in entities.items():\n",
    "  if search_string in key:         \n",
    "    search_items = entities['BMW_VEHICLE']\n",
    "    vehicle = find_matching_string(vehicle_dict, search_items)\n",
    "    if 'DZ01' in vehicle:\n",
    "      model_codes.append(vehicle)\n",
    "      print(\"BMW_SALES_DESCP\", model_codes)\n",
    "      print (model_codes)\n",
    "      vehicle.remove('DZ01')\n",
    "    else:\n",
    "      print(\"vehicle\", vehicle)\n",
    "\n",
    "ts = datetime(2023, 5, 15)\n",
    "NERdate = entities1['DATE']\n",
    "date = str(ctparse(NERdate, ts=ts))[0:10]\n",
    "print(\"date\", date)"
   ]
  },
  {
   "cell_type": "code",
   "execution_count": null,
   "id": "9e2b00d7-5222-431a-a8ab-16dc20c3e92b",
   "metadata": {},
   "outputs": [],
   "source": [
    "model_type_codes = model_codes\n",
    "boolean_formulas = str(str(roof_config) + \" \" + str(avlb_packages) + \" \" + str(str_config) + \" \" + str(engine) + \" \" + str(vehicle))\n",
    "dates = [date]\n",
    "\n",
    "request_body = {\n",
    "    'modelTypeCodes': model_type_codes,\n",
    "    'booleanFormulas': boolean_formulas,\n",
    "    'dates': dates\n",
    "}\n",
    "print(request_body)"
   ]
  },
  {
   "cell_type": "code",
   "execution_count": null,
   "id": "0e9f17b5-f6b8-4d20-ac83-aea2adebb8aa",
   "metadata": {},
   "outputs": [],
   "source": [
    "pattern = r'^[+\\-]?(\\((\\w+\\d*[+-/*]+\\w+\\d*)\\)|(\\w+\\d*[+-/*]+\\w+\\d*))([+*/-]+(\\((\\w+\\d*[+-/*]+\\w+\\d*)\\)|(\\w+\\d*[+-/*]+\\w+\\d*)))*$'\n",
    "boolean_formula = boolean_formulas\n",
    "if re.match(pattern, boolean_formula):\n",
    "    print('BooleanFormula syntax is valid')\n",
    "else:\n",
    "    print('BooleanFormula syntax is not valid')"
   ]
  }
 ],
 "metadata": {
  "kernelspec": {
   "display_name": "Python 3 (ipykernel)",
   "language": "python",
   "name": "python3"
  },
  "language_info": {
   "codemirror_mode": {
    "name": "ipython",
    "version": 3
   },
   "file_extension": ".py",
   "mimetype": "text/x-python",
   "name": "python",
   "nbconvert_exporter": "python",
   "pygments_lexer": "ipython3",
   "version": "3.11.3"
  }
 },
 "nbformat": 4,
 "nbformat_minor": 5
}
